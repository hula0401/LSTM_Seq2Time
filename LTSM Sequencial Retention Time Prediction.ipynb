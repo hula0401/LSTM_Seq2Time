{
 "cells": [
  {
   "cell_type": "markdown",
   "id": "f1d9f672-e3f7-42f0-a4ad-abfb34d88731",
   "metadata": {},
   "source": [
    "# Sequential Peptide Retention Time Prediction"
   ]
  },
  {
   "cell_type": "markdown",
   "id": "053c8de7-2148-476b-9481-92a64fd246a0",
   "metadata": {},
   "source": [
    "### Goal:\n",
    "* Sequence to value -- Peptide sequence to a time point (0~180 min)\n",
    "### Background:\n",
    "* ESDDKPEIEDVGsDEEEEEKK\t-- 68.8636\n",
    "* Peptide is composed of different amino acids (AA)\n",
    "* Each AA is indicated as a unique letter\n",
    "### Challenge:\n",
    "* Every AA introduces a different hydrophobicity <br>\n",
    "* Different order of the AAs makes them a different integrative hydrophobicity<br>"
   ]
  },
  {
   "cell_type": "markdown",
   "id": "041c630f-9a1e-4a47-aad0-59b195290c0b",
   "metadata": {},
   "source": [
    "## 1. Data Processing"
   ]
  },
  {
   "cell_type": "markdown",
   "id": "c1b600c2-faae-4427-9ded-c59c48508bb2",
   "metadata": {},
   "source": [
    "### 1.1 General processing"
   ]
  },
  {
   "cell_type": "code",
   "execution_count": 1,
   "id": "6df8c256-443f-49ca-8780-27b099ae36aa",
   "metadata": {},
   "outputs": [],
   "source": [
    "import pandas as pd\n",
    "import numpy as np"
   ]
  },
  {
   "cell_type": "code",
   "execution_count": 2,
   "id": "bf604e3a-f0e3-4819-8142-454165b3737e",
   "metadata": {},
   "outputs": [],
   "source": [
    "df = pd.read_excel('20231101_BMDM_phospho_PSMs.xlsx')"
   ]
  },
  {
   "cell_type": "code",
   "execution_count": null,
   "id": "10fedbb1-5110-4d6f-a5e9-62979ddd7979",
   "metadata": {},
   "outputs": [],
   "source": [
    "select_columns = ['Annotated Sequence','Charge','m/z [Da]','MH+ [Da]','RT [min]','|Log Prob|','Byonic Score']\n",
    "df1= df[select_columns]\n",
    "# Remove data points with low confidences\n",
    "df2 = df1[(df1['Byonic Score'] > 500) & (df['|Log Prob|'] > 5)]\n",
    "df2['Annotated Sequence'] = df1['Annotated Sequence'].str.extract(r'\\.(.*?)\\.')\n",
    "feature=['Encoded']\n",
    "df2['length'] = df2['Annotated Sequence'].apply(len)\n",
    "df3 = df2[(df2['length'] > 8) & (df2['length'] <= 25)].reset_index(drop=True)"
   ]
  },
  {
   "cell_type": "code",
   "execution_count": 4,
   "id": "dd753608-e551-4ada-b93f-cbb3c4258646",
   "metadata": {},
   "outputs": [
    {
     "data": {
      "text/html": [
       "<div>\n",
       "<style scoped>\n",
       "    .dataframe tbody tr th:only-of-type {\n",
       "        vertical-align: middle;\n",
       "    }\n",
       "\n",
       "    .dataframe tbody tr th {\n",
       "        vertical-align: top;\n",
       "    }\n",
       "\n",
       "    .dataframe thead th {\n",
       "        text-align: right;\n",
       "    }\n",
       "</style>\n",
       "<table border=\"1\" class=\"dataframe\">\n",
       "  <thead>\n",
       "    <tr style=\"text-align: right;\">\n",
       "      <th></th>\n",
       "      <th>Annotated Sequence</th>\n",
       "      <th>Charge</th>\n",
       "      <th>m/z [Da]</th>\n",
       "      <th>MH+ [Da]</th>\n",
       "      <th>RT [min]</th>\n",
       "      <th>|Log Prob|</th>\n",
       "      <th>Byonic Score</th>\n",
       "      <th>length</th>\n",
       "    </tr>\n",
       "  </thead>\n",
       "  <tbody>\n",
       "    <tr>\n",
       "      <th>0</th>\n",
       "      <td>SPSDYSNFDPEFLNEKPQLsFSDK</td>\n",
       "      <td>3</td>\n",
       "      <td>957.75176</td>\n",
       "      <td>2871.24073</td>\n",
       "      <td>123.1943</td>\n",
       "      <td>31.27</td>\n",
       "      <td>1612.2</td>\n",
       "      <td>24</td>\n",
       "    </tr>\n",
       "    <tr>\n",
       "      <th>1</th>\n",
       "      <td>ESDDKPEIEDVGsDEEEEEKK</td>\n",
       "      <td>3</td>\n",
       "      <td>839.34072</td>\n",
       "      <td>2516.00761</td>\n",
       "      <td>68.8636</td>\n",
       "      <td>31.06</td>\n",
       "      <td>1591.8</td>\n",
       "      <td>21</td>\n",
       "    </tr>\n",
       "    <tr>\n",
       "      <th>2</th>\n",
       "      <td>ESDDKPEIEDVGsDEEEEEKK</td>\n",
       "      <td>3</td>\n",
       "      <td>839.34135</td>\n",
       "      <td>2516.00949</td>\n",
       "      <td>69.2675</td>\n",
       "      <td>31.06</td>\n",
       "      <td>1552.9</td>\n",
       "      <td>21</td>\n",
       "    </tr>\n",
       "    <tr>\n",
       "      <th>3</th>\n",
       "      <td>EGINPGYDDYADsDEDQHDAYLER</td>\n",
       "      <td>3</td>\n",
       "      <td>956.36950</td>\n",
       "      <td>2867.09394</td>\n",
       "      <td>93.6957</td>\n",
       "      <td>30.59</td>\n",
       "      <td>1508.7</td>\n",
       "      <td>24</td>\n",
       "    </tr>\n",
       "    <tr>\n",
       "      <th>4</th>\n",
       "      <td>SPSDYSNFDPEFLNEKPQLsFSDK</td>\n",
       "      <td>3</td>\n",
       "      <td>957.75184</td>\n",
       "      <td>2871.24098</td>\n",
       "      <td>123.3552</td>\n",
       "      <td>30.59</td>\n",
       "      <td>1522.0</td>\n",
       "      <td>24</td>\n",
       "    </tr>\n",
       "  </tbody>\n",
       "</table>\n",
       "</div>"
      ],
      "text/plain": [
       "         Annotated Sequence  Charge   m/z [Da]    MH+ [Da]  RT [min]  \\\n",
       "0  SPSDYSNFDPEFLNEKPQLsFSDK       3  957.75176  2871.24073  123.1943   \n",
       "1     ESDDKPEIEDVGsDEEEEEKK       3  839.34072  2516.00761   68.8636   \n",
       "2     ESDDKPEIEDVGsDEEEEEKK       3  839.34135  2516.00949   69.2675   \n",
       "3  EGINPGYDDYADsDEDQHDAYLER       3  956.36950  2867.09394   93.6957   \n",
       "4  SPSDYSNFDPEFLNEKPQLsFSDK       3  957.75184  2871.24098  123.3552   \n",
       "\n",
       "   |Log Prob|  Byonic Score  length  \n",
       "0       31.27        1612.2      24  \n",
       "1       31.06        1591.8      21  \n",
       "2       31.06        1552.9      21  \n",
       "3       30.59        1508.7      24  \n",
       "4       30.59        1522.0      24  "
      ]
     },
     "execution_count": 4,
     "metadata": {},
     "output_type": "execute_result"
    }
   ],
   "source": [
    "df3.head(5)"
   ]
  },
  {
   "cell_type": "markdown",
   "id": "ae6ddf83-04b1-458d-992b-f77eb6acbae2",
   "metadata": {},
   "source": [
    "### 1.2 One-Hot Encoding"
   ]
  },
  {
   "cell_type": "code",
   "execution_count": 6,
   "id": "3af5a10d-9cd3-4181-becb-dbb2a878da04",
   "metadata": {},
   "outputs": [],
   "source": [
    "from tensorflow.keras.preprocessing.text import Tokenizer\n",
    "from tensorflow.keras.preprocessing.sequence import pad_sequences\n",
    "from tensorflow.keras.models import Sequential\n",
    "from tensorflow.keras.layers import Embedding\n",
    "from sklearn.model_selection import train_test_split\n",
    "import numpy as np\n",
    "import pandas as pd\n",
    "\n",
    "sequences = df3['Annotated Sequence'].values\n",
    "\n",
    "# Tokenize the sequences\n",
    "tokenizer = Tokenizer(char_level=True)  # Treat each character as a token\n",
    "tokenizer.fit_on_texts(sequences)\n",
    "encoded_sequences = tokenizer.texts_to_sequences(sequences)\n",
    "\n",
    "# Find the maximum length for padding\n",
    "max_length = max(len(seq) for seq in encoded_sequences)\n",
    "\n",
    "# Padding\n",
    "padded_sequences = pad_sequences(encoded_sequences, maxlen=max_length, padding='post')\n",
    "\n",
    "#Define the Embedding Layer parameters\n",
    "vocab_size = len(tokenizer.word_index) + 1 "
   ]
  },
  {
   "cell_type": "markdown",
   "id": "704036dd-d87c-4f27-9557-7a58a650191e",
   "metadata": {},
   "source": [
    "### 1.3 Positional Encoding"
   ]
  },
  {
   "cell_type": "code",
   "execution_count": 8,
   "id": "1fea05b1-d999-4421-b2e4-e4a77bf4366e",
   "metadata": {},
   "outputs": [],
   "source": [
    "import math\n",
    "\n",
    "embedding_dim = 30\n",
    "def positional_encoding(max_length, embedding_dim):\n",
    "    PE = np.zeros((max_length, embedding_dim))\n",
    "    for pos in range(max_length):\n",
    "        for i in range(0, embedding_dim, 2):\n",
    "            PE[pos, i] = math.sin(pos / (10000 ** ((2 * i) / embedding_dim)))\n",
    "            PE[pos, i + 1] = math.cos(pos / (10000 ** ((2 * i) / embedding_dim)))\n",
    "    return PE\n",
    "\n",
    "pos_enc = positional_encoding(max_length, embedding_dim)"
   ]
  },
  {
   "cell_type": "markdown",
   "id": "661b4b0e-0a2d-4395-b148-80a32433c35a",
   "metadata": {},
   "source": [
    "### 1.4 Train Test Split"
   ]
  },
  {
   "cell_type": "code",
   "execution_count": 9,
   "id": "94928eb3-132e-40b1-bbd7-2c9634aa51f2",
   "metadata": {},
   "outputs": [
    {
     "name": "stdout",
     "output_type": "stream",
     "text": [
      "torch.Size([18711, 25])\n"
     ]
    }
   ],
   "source": [
    "import torch\n",
    "import torch.nn as nn\n",
    "from torch.utils.data import DataLoader, TensorDataset\n",
    "import random\n",
    "\n",
    "random.seed(21)\n",
    "# Convert padded sequences and retention times to PyTorch tensors\n",
    "X = torch.tensor(padded_sequences, dtype=torch.long)  # Long type for embeddings\n",
    "y = torch.tensor(df3['RT [min]'].values, dtype=torch.float32).unsqueeze(1)\n",
    "\n",
    "# Splitting the data into train, test, and validation sets\n",
    "X_train, X_test, y_train, y_test = train_test_split(X, y, test_size=0.1)\n",
    "\n",
    "batch_size = 64\n",
    "\n",
    "all_data = TensorDataset(X, y)\n",
    "\n",
    "train_data = TensorDataset(X_train, y_train)\n",
    "train_loader = DataLoader(train_data, batch_size=batch_size)\n",
    "\n",
    "test_data = TensorDataset(X_test, y_test)\n",
    "test_loader = DataLoader(test_data, batch_size=batch_size)\n",
    "\n",
    "print(X_train.shape)"
   ]
  },
  {
   "cell_type": "markdown",
   "id": "324a4534-93f6-4dbe-af10-fc584b494dd2",
   "metadata": {},
   "source": [
    "## 2. Model Buildup and Model Evaluation"
   ]
  },
  {
   "cell_type": "markdown",
   "id": "ed712e1e-3a8f-4f17-a089-56edc32b8a71",
   "metadata": {},
   "source": [
    "### 2.1 Neuron Network with LSTM layer"
   ]
  },
  {
   "cell_type": "code",
   "execution_count": 109,
   "id": "6f4699d0-ec39-46e3-86bd-30e0e6d7f762",
   "metadata": {},
   "outputs": [],
   "source": [
    "import torch.optim as optim\n",
    "embedding_dim = 30\n",
    "\n",
    "class PeptideLSTMNet(nn.Module):\n",
    "    def __init__(self, vocab_size, embedding_dim, max_length):\n",
    "        super(PeptideLSTMNet, self).__init__()\n",
    "        self.embedding = nn.Embedding(num_embeddings=vocab_size, embedding_dim=embedding_dim)\n",
    "        self.pos_encoding = positional_encoding(max_length, embedding_dim)\n",
    "        self.lstm = nn.LSTM(input_size=embedding_dim, hidden_size=64, batch_first=True)\n",
    "        self.bn1 = nn.BatchNorm1d(64)\n",
    "        self.fc1 = nn.Linear(64, 32)\n",
    "        self.dropout1 = nn.Dropout(0.2)\n",
    "        self.bn2 = nn.BatchNorm1d(32)\n",
    "        self.fc2 = nn.Linear(32, 16)\n",
    "        self.dropout2 = nn.Dropout(0.2)\n",
    "        self.bn3 = nn.BatchNorm1d(16)\n",
    "        self.fc3 = nn.Linear(16, 8)\n",
    "        self.out = nn.Linear(8, 1)\n",
    "\n",
    "    def forward(self, x):\n",
    "        x = self.embedding(x)\n",
    "        \n",
    "        pos_enc_tensor = torch.tensor(self.pos_encoding, dtype=torch.float32).to(x.device)\n",
    "        x = x + pos_enc_tensor[:x.size(1), :].unsqueeze(0)\n",
    "        \n",
    "        x, _ = self.lstm(x)\n",
    "        x = x[:, -1, :]  # Using the output of the last LSTM cell\n",
    "        x = self.bn1(x)\n",
    "        x = torch.relu(self.fc1(x))\n",
    "        x = self.dropout1(x)\n",
    "        x = self.bn2(x)\n",
    "        x = torch.relu(self.fc2(x))\n",
    "        x = self.dropout2(x)\n",
    "        x = self.bn3(x)\n",
    "        x = torch.relu(self.fc3(x))\n",
    "        x = self.out(x)\n",
    "        return x\n",
    "\n",
    "model = PeptideLSTMNet(vocab_size=vocab_size, embedding_dim=embedding_dim, max_length=max_length)\n",
    "\n",
    "# Loss and optimizer\n",
    "criterion = nn.MSELoss()\n",
    "optimizer = optim.Adam(model.parameters())\n"
   ]
  },
  {
   "cell_type": "markdown",
   "id": "12e6d7bc-c41f-4237-aea6-8e6abedc47d5",
   "metadata": {},
   "source": [
    "### 2.2 Four Layers -- Overfitting Model for Small-size Data"
   ]
  },
  {
   "cell_type": "code",
   "execution_count": 108,
   "id": "86ff8fc5-fffc-4f45-bf8c-1ec1fc5cfdbe",
   "metadata": {},
   "outputs": [],
   "source": [
    "import torch.optim as optim\n",
    "embedding_dim = 30\n",
    "class PeptideLSTMNet(nn.Module):\n",
    "    def __init__(self, vocab_size, embedding_dim, max_length):\n",
    "        super(PeptideLSTMNet, self).__init__()\n",
    "        self.embedding = nn.Embedding(num_embeddings=vocab_size, embedding_dim=embedding_dim)\n",
    "        self.pos_encoding = positional_encoding(max_length, embedding_dim)\n",
    "        self.lstm = nn.LSTM(input_size=embedding_dim, hidden_size=256, batch_first=True)\n",
    "        self.bn1 = nn.BatchNorm1d(256)\n",
    "        self.fc1 = nn.Linear(256, 128)\n",
    "        self.dropout1 = nn.Dropout(0.5)\n",
    "        self.bn2 = nn.BatchNorm1d(128)\n",
    "        self.fc2 = nn.Linear(128, 64)\n",
    "        self.dropout2 = nn.Dropout(0.5)\n",
    "        self.bn3 = nn.BatchNorm1d(64)\n",
    "        self.fc3 = nn.Linear(64, 24)\n",
    "        self.dropout3 = nn.Dropout(0.5)\n",
    "        self.bn4 = nn.BatchNorm1d(24)\n",
    "        self.fc4 = nn.Linear(24, 12)\n",
    "        self.out = nn.Linear(12, 1)\n",
    "\n",
    "    def forward(self, x):\n",
    "        x = self.embedding(x)\n",
    "        \n",
    "        pos_enc_tensor = torch.tensor(self.pos_encoding, dtype=torch.float32).to(x.device)\n",
    "        x = x + pos_enc_tensor[:x.size(1), :].unsqueeze(0)\n",
    "        \n",
    "        x, _ = self.lstm(x)\n",
    "        x = x[:, -1, :]  # Using the output of the last LSTM cell\n",
    "        x = self.bn1(x)\n",
    "        x = torch.relu(self.fc1(x))\n",
    "        x = self.dropout1(x)\n",
    "        x = self.bn2(x)\n",
    "        x = torch.relu(self.fc2(x))\n",
    "        x = self.dropout2(x)\n",
    "        x = self.bn3(x)\n",
    "        x = torch.relu(self.fc3(x))\n",
    "        x = self.dropout3(x)\n",
    "        x = self.bn4(x)\n",
    "        x = torch.relu(self.fc4(x))\n",
    "        x = self.out(x)\n",
    "        return x\n",
    "\n",
    "model = PeptideLSTMNet(vocab_size=vocab_size, embedding_dim=embedding_dim, max_length=max_length)\n",
    "\n",
    "# Loss and optimizer\n",
    "criterion = nn.MSELoss()\n",
    "optimizer = optim.Adam(model.parameters())\n"
   ]
  },
  {
   "cell_type": "markdown",
   "id": "634d41bd-c040-49f0-8497-ae6609de482c",
   "metadata": {},
   "source": [
    "### 2.3 Training with Cross-Validation"
   ]
  },
  {
   "cell_type": "code",
   "execution_count": null,
   "id": "1c9fabd7-6cdd-490c-be22-f2bb8eeb09dd",
   "metadata": {},
   "outputs": [],
   "source": [
    "from sklearn.model_selection import KFold\n",
    "\n",
    "kfold = KFold(n_splits=5, shuffle=True)\n",
    "\n",
    "# Use small data for hyperparameter tuning\n",
    "# dataset_size = len(test_data)\n",
    "dataset_size = len(train_data)\n",
    "\n",
    "indices = list(range(dataset_size))\n",
    "history = []\n",
    "# Training loop function with cross-validation\n",
    "def train_model_with_cv(model, dataset, criterion, optimizer, epochs=50):\n",
    "    for fold, (train_indices, val_indices) in enumerate(kfold.split(indices)):\n",
    "        train_sampler = torch.utils.data.SubsetRandomSampler(train_indices)\n",
    "        val_sampler = torch.utils.data.SubsetRandomSampler(val_indices)\n",
    "\n",
    "        train_loader = torch.utils.data.DataLoader(dataset, batch_size=batch_size, sampler=train_sampler)\n",
    "        val_loader = torch.utils.data.DataLoader(dataset, batch_size=batch_size, sampler=val_sampler)\n",
    "\n",
    "        fold_history = []\n",
    "        for epoch in range(epochs+1):\n",
    "            model.train()\n",
    "            for inputs, labels in train_loader:\n",
    "                optimizer.zero_grad()\n",
    "                outputs = model(inputs)\n",
    "                loss = criterion(outputs, labels)\n",
    "                loss.backward()\n",
    "                optimizer.step()\n",
    "\n",
    "            if epoch % 20 == 0:\n",
    "                model.eval()\n",
    "                #with torch.no_grad():\n",
    "                for inputs, labels in val_loader:\n",
    "                    outputs = model(inputs)\n",
    "                    val_loss = criterion(outputs, labels)\n",
    "                print('Fold {}, Epoch {}, Training Loss {}, Validation Loss {}'.format(fold+1, epoch, loss.item(), val_loss.item()))\n",
    "            else:\n",
    "                print('Fold {}, Epoch {}, Training Loss {}'.format(fold+1, epoch, loss.item()))\n",
    "            fold_history.append(loss.item())\n",
    "        history.append(fold_history)\n",
    "\n",
    "# Testing\n",
    "#train_model_with_cv(model, test_data, criterion, optimizer)\n",
    "train_model_with_cv(model, train_data, criterion, optimizer)"
   ]
  },
  {
   "cell_type": "code",
   "execution_count": 97,
   "id": "ef8464d7-7234-429c-9161-0bc74bd40be6",
   "metadata": {},
   "outputs": [],
   "source": [
    "import matplotlib.pyplot as plt\n",
    "import statistics"
   ]
  },
  {
   "cell_type": "code",
   "execution_count": 112,
   "id": "e57765ec-3919-4749-ae65-afa99f918bf1",
   "metadata": {},
   "outputs": [
    {
     "name": "stdout",
     "output_type": "stream",
     "text": [
      "88.81873321533203\n"
     ]
    },
    {
     "data": {
      "text/plain": [
       "[<matplotlib.lines.Line2D at 0x28df621d0>]"
      ]
     },
     "execution_count": 112,
     "metadata": {},
     "output_type": "execute_result"
    },
    {
     "data": {
      "image/png": "[encoded data removed]",
      "text/plain": [
       "<Figure size 640x480 with 1 Axes>"
      ]
     },
     "metadata": {},
     "output_type": "display_data"
    }
   ],
   "source": [
    "graph = []\n",
    "for i in history:\n",
    "    graph += i\n",
    "print(statistics.median(graph))\n",
    "plt.plot(graph)"
   ]
  },
  {
   "cell_type": "markdown",
   "id": "679397e9-64be-45bb-8c17-0c5c70d1309e",
   "metadata": {},
   "source": [
    "## 3. Prediction and Other Features"
   ]
  },
  {
   "cell_type": "markdown",
   "id": "4fb04bc5-26f5-4176-9840-c2fe61d3be41",
   "metadata": {},
   "source": [
    "### 3.1 Prediction of the Test Data"
   ]
  },
  {
   "cell_type": "code",
   "execution_count": 111,
   "id": "cf263517-5569-4671-a766-63a8824c25c0",
   "metadata": {},
   "outputs": [
    {
     "name": "stdout",
     "output_type": "stream",
     "text": [
      "Test Accuracy with ±10 Tolerance: 86.54%\n",
      "Predictions: [63.663490295410156, 90.498291015625, 90.08969116210938, 87.46794891357422, 84.13177490234375]\n",
      "Actual Values: [64.45800018310547, 91.08429718017578, 112.83689880371094, 86.18910217285156, 80.87129974365234]\n"
     ]
    }
   ],
   "source": [
    "def predict_and_evaluate_accuracy(model, test_loader, tolerance=10.0):\n",
    "    model.eval()\n",
    "    predictions = []\n",
    "    actual_values = []\n",
    "    correct_predictions = 0\n",
    "    total_predictions = 0\n",
    "\n",
    "    with torch.no_grad():\n",
    "        for inputs, labels in test_loader:\n",
    "            outputs = model(inputs).squeeze()\n",
    "            predictions.extend(outputs.tolist())\n",
    "            actual_values.extend(labels.squeeze().tolist())\n",
    "\n",
    "            # Calculate accuracy within the tolerance range\n",
    "            correct_predictions += torch.sum(torch.abs(outputs - labels.squeeze()) <= tolerance)\n",
    "            total_predictions += labels.size(0)\n",
    "\n",
    "    accuracy = correct_predictions.float() / total_predictions * 100\n",
    "\n",
    "    return predictions, actual_values, accuracy.item()\n",
    "\n",
    "predictions, actual_values, test_accuracy = predict_and_evaluate_accuracy(model, test_loader)\n",
    "print(f'Test Accuracy with ±10 Tolerance: {test_accuracy:.2f}%')\n",
    "\n",
    "print(\"Predictions:\", predictions[0:5])\n",
    "print(\"Actual Values:\", actual_values[0:5])\n"
   ]
  },
  {
   "cell_type": "markdown",
   "id": "309bd9e9-3ba2-4db9-8299-4130354a5f4f",
   "metadata": {},
   "source": [
    "### 3.2 Get Weight Information"
   ]
  },
  {
   "cell_type": "code",
   "execution_count": null,
   "id": "a9a8e0f5-d35e-4823-985c-c363f801c4a8",
   "metadata": {},
   "outputs": [],
   "source": [
    "for param in model.parameters():\n",
    "    print(param.data)"
   ]
  },
  {
   "cell_type": "markdown",
   "id": "63af5a7e-1161-47d7-a4d0-1397f971df5c",
   "metadata": {},
   "source": [
    "## 4. Conclusion"
   ]
  },
  {
   "cell_type": "markdown",
   "id": "dd47a2d7-bcc1-4dbe-9f4f-52be2d2f45a4",
   "metadata": {},
   "source": [
    "* Our model has a average loss of 70, pretty comparable to the published literature value (loss: 33~133)\n",
    "* Tolerance +- 10 is sufficient enough for the application of setting the dynamic window for a targeted peptide on the instrument (mass spectrometry)"
   ]
  },
  {
   "cell_type": "code",
   "execution_count": null,
   "id": "fb2a4d02-2b09-427c-823d-570bb1a4350b",
   "metadata": {},
   "outputs": [],
   "source": []
  }
 ],
 "metadata": {
  "kernelspec": {
   "display_name": "Python 3 (ipykernel)",
   "language": "python",
   "name": "python3"
  },
  "language_info": {
   "codemirror_mode": {
    "name": "ipython",
    "version": 3
   },
   "file_extension": ".py",
   "mimetype": "text/x-python",
   "name": "python",
   "nbconvert_exporter": "python",
   "pygments_lexer": "ipython3",
   "version": "3.11.3"
  }
 },
 "nbformat": 4,
 "nbformat_minor": 5
}
